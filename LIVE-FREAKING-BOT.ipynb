{
 "cells": [
  {
   "cell_type": "markdown",
   "metadata": {},
   "source": [
    "### ALL IMPORTS(imo its more convenient to have all imports at the top)"
   ]
  },
  {
   "cell_type": "code",
   "execution_count": 33,
   "metadata": {},
   "outputs": [],
   "source": [
    "import pandas as pd\n",
    "import numpy as np\n",
    "from datetime import datetime, timedelta\n",
    "\n",
    "from apscheduler.schedulers.blocking import BlockingScheduler\n",
    "from oandapyV20 import API\n",
    "import oandapyV20.endpoints.orders as orders\n",
    "from oandapyV20.contrib.requests import MarketOrderRequest\n",
    "from oanda_candles import Pair, Gran, CandleClient\n",
    "from oandapyV20.contrib.requests import TakeProfitDetails, StopLossDetails\n",
    "import pandas as pd\n",
    "\n",
    "from oanda_candles import Pair, Gran, CandleClient\n",
    "import config\n",
    "\n",
    "from oandapyV20 import API\n",
    "import oandapyV20.endpoints.accounts as accounts\n",
    "\n",
    "from oandapyV20 import API\n",
    "import oandapyV20.endpoints.orders as orders\n",
    "import oandapyV20.endpoints.trades as trades\n",
    "import oandapyV20.endpoints.instruments as instruments\n",
    "from oandapyV20.contrib.requests import MarketOrderRequest, TakeProfitDetails, StopLossDetails\n",
    "import pandas as pd\n",
    "from datetime import datetime, timedelta\n"
   ]
  },
  {
   "cell_type": "markdown",
   "metadata": {},
   "source": [
    "### FUNCTION FOR DETECTING SWEEPS"
   ]
  },
  {
   "cell_type": "code",
   "execution_count": 34,
   "metadata": {},
   "outputs": [],
   "source": [
    "def detect_sweeps_improved(df, length=5):\n",
    "    \"\"\"\n",
    "    Enhanced sweep detector with better signal quality\n",
    "    \"\"\"\n",
    "    signals = []\n",
    "    pivot_highs = []\n",
    "    pivot_lows = []\n",
    "    \n",
    "    for i in range(length + 1):\n",
    "        signals.append(0)\n",
    "    \n",
    "    def is_pivot_high(window, mid_idx):\n",
    "        mid_high = window.iloc[mid_idx]['High']\n",
    "        left_section = window.iloc[:mid_idx]\n",
    "        right_section = window.iloc[mid_idx+1:]\n",
    "        return (mid_high > left_section['High'].max() and \n",
    "                mid_high > right_section['High'].max())\n",
    "    \n",
    "    def is_pivot_low(window, mid_idx):\n",
    "        mid_low = window.iloc[mid_idx]['Low']\n",
    "        left_section = window.iloc[:mid_idx]\n",
    "        right_section = window.iloc[mid_idx+1:]\n",
    "        return (mid_low < left_section['Low'].min() and \n",
    "                mid_low < right_section['Low'].min())\n",
    "    \n",
    "    # Calculate average volatility\n",
    "    df['TR'] = np.maximum(\n",
    "        df['High'] - df['Low'],\n",
    "        np.maximum(\n",
    "            abs(df['High'] - df['Close'].shift(1)),\n",
    "            abs(df['Low'] - df['Close'].shift(1))\n",
    "        )\n",
    "    )\n",
    "    df['ATR'] = df['TR'].rolling(14).mean()\n",
    "    \n",
    "    # Main detection loop\n",
    "    for i in range(length + 1, len(df)):\n",
    "        current_candle = df.iloc[i]\n",
    "        window = df.iloc[i-length-1:i]\n",
    "        mid_idx = len(window) // 2\n",
    "        \n",
    "        signal = 0\n",
    "        \n",
    "        # Update pivot points\n",
    "        if is_pivot_high(window, mid_idx):\n",
    "            pivot_price = window.iloc[mid_idx]['High']\n",
    "            pivot_highs.append({\n",
    "                'price': pivot_price,\n",
    "                'index': i-length//2,\n",
    "                'active': True\n",
    "            })\n",
    "            \n",
    "        if is_pivot_low(window, mid_idx):\n",
    "            pivot_price = window.iloc[mid_idx]['Low']\n",
    "            pivot_lows.append({\n",
    "                'price': pivot_price,\n",
    "                'index': i-length//2,\n",
    "                'active': True\n",
    "            })\n",
    "        \n",
    "        # Enhanced sweep detection\n",
    "        vol_threshold = df['Volume'].rolling(20).mean().iloc[i] * 1.2\n",
    "        \n",
    "        # Bearish sweeps\n",
    "        for ph in pivot_highs:\n",
    "            if ph['active']:\n",
    "                sweep_size = current_candle['High'] - ph['price']\n",
    "                if (sweep_size > 0 and\n",
    "                    sweep_size < current_candle['ATR'] * 0.5 and\n",
    "                    current_candle['Close'] < ph['price'] and\n",
    "                    current_candle['Volume'] > vol_threshold):\n",
    "                    signal = 1\n",
    "                    ph['active'] = False\n",
    "                elif current_candle['Close'] > ph['price']:\n",
    "                    ph['active'] = False\n",
    "                    \n",
    "        # Bullish sweeps\n",
    "        for pl in pivot_lows:\n",
    "            if pl['active']:\n",
    "                sweep_size = pl['price'] - current_candle['Low']\n",
    "                if (sweep_size > 0 and\n",
    "                    sweep_size < current_candle['ATR'] * 0.5 and\n",
    "                    current_candle['Close'] > pl['price'] and\n",
    "                    current_candle['Volume'] > vol_threshold):\n",
    "                    signal = 2\n",
    "                    pl['active'] = False\n",
    "                elif current_candle['Close'] < pl['price']:\n",
    "                    pl['active'] = False\n",
    "        \n",
    "        signals.append(signal)\n",
    "        \n",
    "        # Clean up old pivot points\n",
    "        pivot_highs = [ph for ph in pivot_highs if i - ph['index'] <= 100]\n",
    "        pivot_lows = [pl for pl in pivot_lows if i - pl['index'] <= 100]\n",
    "    \n",
    "    return signals"
   ]
  },
  {
   "cell_type": "markdown",
   "metadata": {},
   "source": [
    "### OANDA API SETUP"
   ]
  },
  {
   "cell_type": "code",
   "execution_count": 24,
   "metadata": {},
   "outputs": [
    {
     "name": "stdout",
     "output_type": "stream",
     "text": [
      "True\n",
      "True\n",
      "True\n"
     ]
    }
   ],
   "source": [
    "# OANDA API setup\n",
    "access_token = config.API_TOKEN\n",
    "accountID = config.ACCOUNT_ID\n",
    "def get_candles(n):\n",
    "    client = CandleClient(access_token, real=False)\n",
    "    collector = client.get_collector(Pair.EUR_USD, Gran.M15)\n",
    "    candles = collector.grab(n)\n",
    "    return candles\n",
    "\n",
    "candles = get_candles(3)\n",
    "for candle in candles:\n",
    "    print(float(str(candle.bid.o)) > 1)\n"
   ]
  },
  {
   "cell_type": "markdown",
   "metadata": {},
   "source": [
    "### PRINT OANDA ACC SUMMARY"
   ]
  },
  {
   "cell_type": "code",
   "execution_count": 25,
   "metadata": {},
   "outputs": [
    {
     "name": "stdout",
     "output_type": "stream",
     "text": [
      "\n",
      "acc: 'winter-break-2024-algo'\n",
      "----------------------------------------\n",
      "folio deets:\n",
      "- Portfolio: $99,995.16\n",
      "- P/L: $-4.67\n",
      "- Margin Used: $145.26\n",
      "- Margin Available: $99,851.92\n"
     ]
    }
   ],
   "source": [
    "client = API(access_token)\n",
    "\n",
    "def get_account_summary():\n",
    "    # Request account details\n",
    "    request = accounts.AccountDetails(accountID)\n",
    "    response = client.request(request)\n",
    "\n",
    "    # Extract relevant details\n",
    "    nav = float(response['account']['NAV'])  # Net Asset Value\n",
    "    unrealized_pl = float(response['account']['unrealizedPL'])  # Profit/Loss\n",
    "    margin_used = float(response['account']['marginUsed'])  # Margin Used\n",
    "    margin_available = float(response['account']['marginAvailable'])  # Margin Available\n",
    "    account_name = response['account']['alias']  # Account Name/Alias\n",
    "\n",
    "    # Print account details\n",
    "    print(f\"\\nacc: '{account_name}'\")\n",
    "    print(\"-\" * 40)\n",
    "    print(f\"folio deets:\")\n",
    "    print(f\"- Portfolio: ${nav:,.2f}\")\n",
    "    print(f\"- P/L: ${unrealized_pl:,.2f}\")\n",
    "    print(f\"- Margin Used: ${margin_used:,.2f}\")\n",
    "    print(f\"- Margin Available: ${margin_available:,.2f}\")\n",
    "\n",
    "# Call the function to print account details\n",
    "get_account_summary()"
   ]
  },
  {
   "cell_type": "markdown",
   "metadata": {},
   "source": [
    "### 1 MINUTE CANDLES: OANDA"
   ]
  },
  {
   "cell_type": "code",
   "execution_count": 28,
   "metadata": {},
   "outputs": [],
   "source": [
    "def get_candles(count):\n",
    "    \"\"\"Get M1 (one minute) candles from Oanda\"\"\"\n",
    "    params = {\n",
    "        \"count\": count,\n",
    "        \"granularity\": \"M1\"  # One minute timeframe\n",
    "    }\n",
    "    r = instruments.InstrumentsCandles(instrument=\"EUR_USD\", params=params)\n",
    "    client.request(r)\n",
    "    return r.response['candles']"
   ]
  },
  {
   "cell_type": "markdown",
   "metadata": {},
   "source": [
    "### CHECKS AND CLOSES OLD TRADES(callable function)"
   ]
  },
  {
   "cell_type": "code",
   "execution_count": 29,
   "metadata": {},
   "outputs": [],
   "source": [
    "def check_and_close_old_trades(client, accountID):\n",
    "    \"\"\"Check for trades older than 70 minutes and close them\"\"\"\n",
    "    r = trades.OpenTrades(accountID)\n",
    "    open_trades = client.request(r)\n",
    "    \n",
    "    current_time = datetime.utcnow()\n",
    "    \n",
    "    for trade in open_trades['trades']:\n",
    "        open_time = datetime.strptime(trade['openTime'][:19], '%Y-%m-%dT%H:%M:%S')\n",
    "        if current_time - open_time > timedelta(minutes=70):\n",
    "            # Close the trade\n",
    "            r = trades.TradeClose(accountID, trade['id'])\n",
    "            client.request(r)\n",
    "            print(f\"Closed trade {trade['id']} due to time limit (70 candles)\")"
   ]
  },
  {
   "cell_type": "markdown",
   "metadata": {},
   "source": [
    "### DETECT SIGNALS FROM 'detect_sweeps_improved' FUNCTION"
   ]
  },
  {
   "cell_type": "code",
   "execution_count": 31,
   "metadata": {},
   "outputs": [],
   "source": [
    "def detect_trade_signal(candles_df):\n",
    "    \"\"\"\n",
    "    Check if a trade can be placed based on liquidity sweep logic\n",
    "    \"\"\"\n",
    "    df = candles_df.copy()\n",
    "    df['EMA20'] = df['Close'].ewm(span=20).mean()\n",
    "    signals = detect_sweeps_improved(df, length=5)\n",
    "    \n",
    "    current_signal = signals[-1]\n",
    "    current_bar = df.iloc[-1]\n",
    "    \n",
    "    if current_signal == 2:  # Bullish sweep\n",
    "        if abs(current_bar['Close'] - current_bar['EMA20']) / current_bar['Close'] < 0.0005:\n",
    "            return True, current_bar\n",
    "    \n",
    "    return False, None"
   ]
  },
  {
   "cell_type": "markdown",
   "metadata": {},
   "source": [
    "### CALCULATES ORDER POSITION SIZE"
   ]
  },
  {
   "cell_type": "code",
   "execution_count": 32,
   "metadata": {},
   "outputs": [],
   "source": [
    "def calculate_position_size(balance, risk_percent, entry_price, stop_loss):\n",
    "    \"\"\"Calculate position size based on account balance and risk\"\"\"\n",
    "    risk_amount = balance * (risk_percent / 100)  # Convert percent to decimal\n",
    "    pip_risk = abs(entry_price - stop_loss)\n",
    "    position_size = risk_amount / pip_risk\n",
    "    return position_size"
   ]
  },
  {
   "cell_type": "markdown",
   "metadata": {},
   "source": [
    "### FUNCTION TO ACTUALLY PLACE TRADES AUTONOMOUSLY"
   ]
  },
  {
   "cell_type": "code",
   "execution_count": 35,
   "metadata": {},
   "outputs": [],
   "source": [
    "def trading_job():\n",
    "    # First check and close any trades that have exceeded 70 candles\n",
    "    check_and_close_old_trades(client, accountID)\n",
    "    \n",
    "    # Get current account balance\n",
    "    request = accounts.AccountDetails(accountID)\n",
    "    response = client.request(request)\n",
    "    current_balance = float(response['account']['balance'])\n",
    "    \n",
    "    # Get M1 candles\n",
    "    candles = get_candles(30)  # Get enough candles for signal detection\n",
    "    dfstream = pd.DataFrame(columns=['Open','Close','High','Low','Volume','Time'])\n",
    "    \n",
    "    for i, candle in enumerate(candles):\n",
    "        dfstream.loc[i, 'Open'] = float(candle['mid']['o'])\n",
    "        dfstream.loc[i, 'Close'] = float(candle['mid']['c'])\n",
    "        dfstream.loc[i, 'High'] = float(candle['mid']['h'])\n",
    "        dfstream.loc[i, 'Low'] = float(candle['mid']['l'])\n",
    "        dfstream.loc[i, 'Volume'] = float(candle['volume'])\n",
    "        dfstream.loc[i, 'Time'] = pd.to_datetime(candle['time'])\n",
    "    \n",
    "    dfstream = dfstream.astype({'Open': float, 'Close': float, 'High': float, 'Low': float, 'Volume': float})\n",
    "    \n",
    "    # Check for trade signal\n",
    "    can_trade, current_bar = detect_trade_signal(dfstream)\n",
    "    \n",
    "    if can_trade:\n",
    "        # Calculate trade parameters using your risk parameters\n",
    "        entry_price = current_bar['Close']\n",
    "        stop_loss = current_bar['Low'] - (current_bar['High'] - current_bar['Low']) * 0.1\n",
    "        pip_risk = abs(entry_price - stop_loss)\n",
    "        \n",
    "        # Calculate position size based on 1.7% risk\n",
    "        position_size = calculate_position_size(\n",
    "            balance=current_balance,\n",
    "            risk_percent=1.7,\n",
    "            entry_price=entry_price,\n",
    "            stop_loss=stop_loss\n",
    "        )\n",
    "        \n",
    "        # Calculate take profit based on 4.5:1.7 reward:risk ratio\n",
    "        take_profit = entry_price + (pip_risk * (4.5/1.7))\n",
    "        \n",
    "        # Execute order\n",
    "        mo = MarketOrderRequest(\n",
    "            instrument=\"EUR_USD\",\n",
    "            units=int(position_size),\n",
    "            takeProfitOnFill=TakeProfitDetails(price=take_profit).data,\n",
    "            stopLossOnFill=StopLossDetails(price=stop_loss).data\n",
    "        )\n",
    "        r = orders.OrderCreate(accountID, data=mo.data)\n",
    "        rv = client.request(r)\n",
    "        \n",
    "        print(\"\\nTrade Executed:\")\n",
    "        print(f\"Entry Time: {datetime.utcnow()}\")\n",
    "        print(f\"Entry Price: {entry_price:.5f}\")\n",
    "        print(f\"Stop Loss: {stop_loss:.5f}\")\n",
    "        print(f\"Take Profit: {take_profit:.5f}\")\n",
    "        print(f\"Position Size: {int(position_size)} units\")\n",
    "        print(f\"Risk Amount: ${current_balance * 0.017:.2f}\")  # 1.7% risk\n",
    "        print(\"\\nAPI Response:\")\n",
    "        print(rv)\n",
    "    else:\n",
    "        print(\"No valid trade setup detected\")"
   ]
  },
  {
   "cell_type": "markdown",
   "metadata": {},
   "source": [
    "### CALL DAT FUNCTION BOIIIIII"
   ]
  },
  {
   "cell_type": "code",
   "execution_count": null,
   "metadata": {},
   "outputs": [
    {
     "name": "stdout",
     "output_type": "stream",
     "text": [
      "No valid trade setup detected\n",
      "No valid trade setup detected\n"
     ]
    }
   ],
   "source": [
    "import time\n",
    "\n",
    "# Execute single trade\n",
    "while True:\n",
    "    trading_job()\n",
    "    time.sleep(60)\n",
    "\n",
    "# Uncomment below to run on schedule\n",
    "# scheduler = BlockingScheduler()\n",
    "# scheduler.add_job(trading_job, 'cron', day_of_week='mon-fri', hour='00-23', minute='1,16,31,46', start_date='2022-01-12 12:00:00', timezone='America/Chicago')\n",
    "# scheduler.start()"
   ]
  }
 ],
 "metadata": {
  "language_info": {
   "name": "python"
  }
 },
 "nbformat": 4,
 "nbformat_minor": 2
}
